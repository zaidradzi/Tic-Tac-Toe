{
 "cells": [
  {
   "cell_type": "markdown",
   "id": "e0802934-edea-47ef-a248-5cec11255e2a",
   "metadata": {},
   "source": [
    "# Project #1: A Game of Tic Tac Toe\n",
    "**This is my first project using Python and first time documenting it on Jupyter Notebook. This milestone project is part of Pierian Data's Python Bootcamp course. It's a lot of fun!**"
   ]
  },
  {
   "cell_type": "markdown",
   "id": "e3075ae9-9ec5-4643-88b9-8ac0115f0eb5",
   "metadata": {},
   "source": [
    "The course can be found [here](https://www.udemy.com/course/complete-python-bootcamp/?couponCode=KEEPLEARNING) from Udemy."
   ]
  },
  {
   "cell_type": "markdown",
   "id": "ce71e4a5-88cf-4c38-a44f-030856ba693a",
   "metadata": {},
   "source": [
    "### Step 1. We need a function that displays a board."
   ]
  },
  {
   "cell_type": "code",
   "execution_count": 1,
   "id": "d64f6438-212d-4470-a118-ebf4ec4f6239",
   "metadata": {},
   "outputs": [],
   "source": [
    "from IPython.display import clear_output\n",
    "\n",
    "def display_board(board):\n",
    "\n",
    "    # first, we clear whatever we've printed before.\n",
    "    clear_output()\n",
    "\n",
    "    # then, we print out a nicely formatted board using indexing.\n",
    "    print(' '+f'{board[1]:2}'+'|'+' '+f'{board[2]:2}'+'|'+' '+f'{board[3]:2}')\n",
    "    print('---|---|---')\n",
    "    print(' '+f'{board[4]:2}'+'|'+' '+f'{board[5]:2}'+'|'+' '+f'{board[6]:2}')    \n",
    "    print('---|---|---')    \n",
    "    print(' '+f'{board[7]:2}'+'|'+' '+f'{board[8]:2}'+'|'+' '+f'{board[9]:2}')  "
   ]
  },
  {
   "cell_type": "markdown",
   "id": "99bfb304-affb-42af-ad8c-efcc57559664",
   "metadata": {},
   "source": [
    "_Let's test to see if the function above works!_"
   ]
  },
  {
   "cell_type": "code",
   "execution_count": 2,
   "id": "64f2ccf0-abd9-49b6-b743-1159185d161c",
   "metadata": {},
   "outputs": [
    {
     "name": "stdout",
     "output_type": "stream",
     "text": [
      "   |   |   \n",
      "---|---|---\n",
      "   |   |   \n",
      "---|---|---\n",
      "   |   |   \n"
     ]
    }
   ],
   "source": [
    "# technically, board[0] can be anything since we will not be using that index.\n",
    "test_board = ['#','','','','','','','','','']\n",
    "\n",
    "# let's display the board now.\n",
    "display_board(test_board)"
   ]
  },
  {
   "cell_type": "markdown",
   "id": "05ce9919-d87a-43ef-bac4-f55d300e8e58",
   "metadata": {},
   "source": [
    "### Step 2. Now let's put some markers on the board!"
   ]
  },
  {
   "cell_type": "code",
   "execution_count": 3,
   "id": "7e00ac19-dace-49f2-a262-3a03958a6647",
   "metadata": {},
   "outputs": [],
   "source": [
    "def place_marker(board, marker, position):\n",
    "\n",
    "    # whatever is being input at \"marker\" will be assigned to the chosen index on the board\n",
    "    board[position] = marker"
   ]
  },
  {
   "cell_type": "markdown",
   "id": "6c729f6e-c3a6-4d3a-baa3-fbd1396f3872",
   "metadata": {},
   "source": [
    "_Does it work?_"
   ]
  },
  {
   "cell_type": "code",
   "execution_count": 4,
   "id": "b937e637-d410-4367-b6e0-2acad9af3f0f",
   "metadata": {},
   "outputs": [
    {
     "name": "stdout",
     "output_type": "stream",
     "text": [
      " ! |   |   \n",
      "---|---|---\n",
      "   |   |   \n",
      "---|---|---\n",
      "   |   |   \n"
     ]
    }
   ],
   "source": [
    "# let's put in '!' at the first index\n",
    "place_marker(test_board,'!',1)\n",
    "\n",
    "# and see what happens.\n",
    "display_board(test_board)"
   ]
  },
  {
   "cell_type": "markdown",
   "id": "3f2d584f-763d-4955-ae94-c51c77add655",
   "metadata": {},
   "source": [
    "### Step 3. But we can't have players overriding existing markers."
   ]
  },
  {
   "cell_type": "code",
   "execution_count": 5,
   "id": "e361eca1-35ea-4c60-be35-e5279c48becf",
   "metadata": {},
   "outputs": [],
   "source": [
    "def space_check(board, position):\n",
    "\n",
    "    # we will only check for X and O. False if occupied\n",
    "    return board[position] not in ['X','O']"
   ]
  },
  {
   "cell_type": "code",
   "execution_count": 6,
   "id": "04983196-4389-40e6-8f0f-8f19873d5e34",
   "metadata": {},
   "outputs": [
    {
     "data": {
      "text/plain": [
       "False"
      ]
     },
     "execution_count": 6,
     "metadata": {},
     "output_type": "execute_result"
    }
   ],
   "source": [
    "place_marker(test_board,'O', 2)\n",
    "space_check(test_board, 2)"
   ]
  },
  {
   "cell_type": "code",
   "execution_count": 7,
   "id": "b5492b40-708d-4f5c-8328-ac51e3989359",
   "metadata": {},
   "outputs": [
    {
     "name": "stdout",
     "output_type": "stream",
     "text": [
      " ! | O |   \n",
      "---|---|---\n",
      "   |   |   \n",
      "---|---|---\n",
      "   |   |   \n"
     ]
    }
   ],
   "source": [
    "display_board(test_board)"
   ]
  },
  {
   "cell_type": "markdown",
   "id": "fae5afdc-ecde-4125-89c2-bf5138e7b134",
   "metadata": {},
   "source": [
    "### Step 4. If we have enough markers on the board, we need to check if the game has now been won!"
   ]
  },
  {
   "cell_type": "code",
   "execution_count": 8,
   "id": "099e3a96-70ea-4e56-a8f0-56ef35bcec5b",
   "metadata": {},
   "outputs": [],
   "source": [
    "def win_check(board, mark):\n",
    "\n",
    "    # 3 horizontal scenarios, 3 vertical, and 2 diagonal.\n",
    "    if (board[1] == board[2] == board[3] == mark or\n",
    "        board[4] == board[5] == board[6] == mark or\n",
    "        board[7] == board[8] == board[9] == mark or\n",
    "        board[1] == board[4] == board[7] == mark or\n",
    "        board[2] == board[5] == board[8] == mark or\n",
    "        board[3] == board[6] == board[7] == mark or\n",
    "        board[1] == board[5] == board[9] == mark or\n",
    "        board[3] == board[5] == board[7] == mark):\n",
    "        return True\n",
    "    \n",
    "    # if game won = True, not yet = False\n",
    "    else:\n",
    "        return False"
   ]
  },
  {
   "cell_type": "markdown",
   "id": "6c1c8b6c-d3c0-4ad5-99f0-d4bc8b445a4f",
   "metadata": {},
   "source": [
    "_Check, check, check!_"
   ]
  },
  {
   "cell_type": "code",
   "execution_count": 9,
   "id": "deb3378a-dd7b-4e04-9f85-1a150025c336",
   "metadata": {},
   "outputs": [
    {
     "data": {
      "text/plain": [
       "False"
      ]
     },
     "execution_count": 9,
     "metadata": {},
     "output_type": "execute_result"
    }
   ],
   "source": [
    "win_check(test_board,'!')"
   ]
  },
  {
   "cell_type": "code",
   "execution_count": 10,
   "id": "e54d8111-0fd2-4b5d-8508-8d2e48ef9819",
   "metadata": {},
   "outputs": [
    {
     "data": {
      "text/plain": [
       "True"
      ]
     },
     "execution_count": 10,
     "metadata": {},
     "output_type": "execute_result"
    }
   ],
   "source": [
    "place_marker(test_board,'X',4)\n",
    "place_marker(test_board,'X',5)\n",
    "place_marker(test_board,'X',6)\n",
    "\n",
    "win_check(test_board,'X')"
   ]
  },
  {
   "cell_type": "code",
   "execution_count": 11,
   "id": "ddc21a4d-16b3-4bae-b62c-9c041cd37d37",
   "metadata": {},
   "outputs": [
    {
     "name": "stdout",
     "output_type": "stream",
     "text": [
      " ! | O |   \n",
      "---|---|---\n",
      " X | X | X \n",
      "---|---|---\n",
      "   |   |   \n"
     ]
    }
   ],
   "source": [
    "display_board(test_board)"
   ]
  },
  {
   "cell_type": "markdown",
   "id": "2c63fc97-a575-4158-ba55-7957b55bcb49",
   "metadata": {},
   "source": [
    "### Step 5. But it could also end up in a draw. How now brown cow?"
   ]
  },
  {
   "cell_type": "code",
   "execution_count": 12,
   "id": "460e5769-88de-45ce-b9b8-2c996e5ac8f0",
   "metadata": {},
   "outputs": [],
   "source": [
    "# we will check to see if the board is full.\n",
    "\n",
    "def full_board_check(board):\n",
    "\n",
    "    # set a counter to 0. If it hits 10, the board if full\n",
    "    counter=0\n",
    "\n",
    "    # for loop to iterate 10 times (10, not 9, because we have index[0])\n",
    "    for i in range(len(board)):\n",
    "        if board[i] in ['#','X','O']:\n",
    "            counter+=1\n",
    "\n",
    "    return counter==10"
   ]
  },
  {
   "cell_type": "markdown",
   "id": "95cb1f71-bae0-4a5d-bbd5-d1e114eca284",
   "metadata": {},
   "source": [
    "_You guessed it, time to check._"
   ]
  },
  {
   "cell_type": "code",
   "execution_count": 13,
   "id": "32a6419d-f57a-451f-a5d9-841a96fc41a8",
   "metadata": {},
   "outputs": [
    {
     "data": {
      "text/plain": [
       "False"
      ]
     },
     "execution_count": 13,
     "metadata": {},
     "output_type": "execute_result"
    }
   ],
   "source": [
    "# Add some markers but not until it's full yet\n",
    "place_marker(test_board,'X',1)\n",
    "place_marker(test_board,'O',3)\n",
    "place_marker(test_board,'X',7)\n",
    "\n",
    "full_board_check(test_board)"
   ]
  },
  {
   "cell_type": "code",
   "execution_count": 14,
   "id": "67a984a1-83ac-443e-802b-070bffcdaec7",
   "metadata": {},
   "outputs": [
    {
     "name": "stdout",
     "output_type": "stream",
     "text": [
      " X | O | O \n",
      "---|---|---\n",
      " X | X | X \n",
      "---|---|---\n",
      " X |   |   \n"
     ]
    }
   ],
   "source": [
    "display_board(test_board)"
   ]
  },
  {
   "cell_type": "code",
   "execution_count": 15,
   "id": "5268c694-55ff-426a-a7b3-b8756468d9c6",
   "metadata": {},
   "outputs": [
    {
     "data": {
      "text/plain": [
       "True"
      ]
     },
     "execution_count": 15,
     "metadata": {},
     "output_type": "execute_result"
    }
   ],
   "source": [
    "# Fill it all up\n",
    "place_marker(test_board,'O',8)\n",
    "place_marker(test_board,'X',9)\n",
    "\n",
    "full_board_check(test_board)"
   ]
  },
  {
   "cell_type": "code",
   "execution_count": 16,
   "id": "9022e4f8-8e9a-482b-ba6c-fe16e259c97e",
   "metadata": {},
   "outputs": [
    {
     "name": "stdout",
     "output_type": "stream",
     "text": [
      " X | O | O \n",
      "---|---|---\n",
      " X | X | X \n",
      "---|---|---\n",
      " X | O | X \n"
     ]
    }
   ],
   "source": [
    "display_board(test_board)"
   ]
  },
  {
   "cell_type": "markdown",
   "id": "2e2f08a3-b8f1-4d7a-aadc-31d01308d190",
   "metadata": {},
   "source": [
    "### Step 6. We now ask if a player wants to be X or O"
   ]
  },
  {
   "cell_type": "code",
   "execution_count": 17,
   "id": "ecf5f605-9a9f-45b1-9b40-b755cbb14eaf",
   "metadata": {},
   "outputs": [],
   "source": [
    "def player_input():\n",
    "\n",
    "    player = 'L'\n",
    "    \n",
    "    # for as long as the variable has not been assigned X or O, we loop\n",
    "    while player not in ['X','O']:\n",
    "        # ask for user input\n",
    "        player = input('Choose \"X\" or \"O\": ')\n",
    "\n",
    "        # in order not to be case sensitive, we will uppercase user's input\n",
    "        player = player.upper()\n",
    "\n",
    "        # if invalid input, we give out an error message\n",
    "        if player not in ['X','O']:\n",
    "            print('Invalid input. Please select \"X\" or \"O\".')\n",
    "        \n",
    "        # if valid input, do nothing since player variable has been assigned\n",
    "        else:\n",
    "            pass\n",
    "\n",
    "    if player == 'X':\n",
    "        print('You are Player X.')\n",
    "    else:\n",
    "        print('You are Player O.')\n"
   ]
  },
  {
   "cell_type": "markdown",
   "id": "8f33618c-23cd-43dc-85fe-d93080b6a262",
   "metadata": {},
   "source": [
    "_Does it work?_"
   ]
  },
  {
   "cell_type": "code",
   "execution_count": 18,
   "id": "9756d7c9-6440-448d-b880-aa11cfbb5fe0",
   "metadata": {},
   "outputs": [
    {
     "name": "stdin",
     "output_type": "stream",
     "text": [
      "Choose \"X\" or \"O\":  x\n"
     ]
    },
    {
     "name": "stdout",
     "output_type": "stream",
     "text": [
      "You are Player X.\n"
     ]
    }
   ],
   "source": [
    "player_input()"
   ]
  },
  {
   "cell_type": "code",
   "execution_count": 19,
   "id": "e5343432-28da-42de-8ece-3f354f5270a7",
   "metadata": {},
   "outputs": [
    {
     "name": "stdin",
     "output_type": "stream",
     "text": [
      "Choose \"X\" or \"O\":  o\n"
     ]
    },
    {
     "name": "stdout",
     "output_type": "stream",
     "text": [
      "You are Player O.\n"
     ]
    }
   ],
   "source": [
    "player_input()"
   ]
  },
  {
   "cell_type": "code",
   "execution_count": 20,
   "id": "051f9d1a-4186-4a5d-9dbb-02e53f13a13d",
   "metadata": {},
   "outputs": [
    {
     "name": "stdin",
     "output_type": "stream",
     "text": [
      "Choose \"X\" or \"O\":  k\n"
     ]
    },
    {
     "name": "stdout",
     "output_type": "stream",
     "text": [
      "Invalid input. Please select \"X\" or \"O\".\n"
     ]
    },
    {
     "name": "stdin",
     "output_type": "stream",
     "text": [
      "Choose \"X\" or \"O\":  X\n"
     ]
    },
    {
     "name": "stdout",
     "output_type": "stream",
     "text": [
      "You are Player X.\n"
     ]
    }
   ],
   "source": [
    "player_input()"
   ]
  },
  {
   "cell_type": "markdown",
   "id": "3399013f-628f-4f9a-b73e-05d830af38ca",
   "metadata": {},
   "source": [
    "### Step 7. Next, we randomly decide which player goes first."
   ]
  },
  {
   "cell_type": "code",
   "execution_count": 21,
   "id": "7b33f885-36ca-445d-bf7c-dcaa947a5485",
   "metadata": {},
   "outputs": [],
   "source": [
    "import random\n",
    "\n",
    "def choose_first():\n",
    "\n",
    "    # generate a random number. we can also use only 2 numbers, \n",
    "    # but I feel it would be more random with 100 numbers instead\n",
    "    rand = random.randint(1,100)\n",
    "\n",
    "    # even numbers, return True\n",
    "    if rand%2 == 0:\n",
    "        return True\n",
    "        \n",
    "    # odd, return False\n",
    "    else:\n",
    "        return False"
   ]
  },
  {
   "cell_type": "markdown",
   "id": "09759b5f-0771-44e1-b424-5932d1c5382a",
   "metadata": {},
   "source": [
    "_So is it really random?_"
   ]
  },
  {
   "cell_type": "code",
   "execution_count": 22,
   "id": "a8aa7029-d3fe-4c6b-9e23-9fffb5040fc8",
   "metadata": {},
   "outputs": [
    {
     "data": {
      "text/plain": [
       "False"
      ]
     },
     "execution_count": 22,
     "metadata": {},
     "output_type": "execute_result"
    }
   ],
   "source": [
    "choose_first()"
   ]
  },
  {
   "cell_type": "markdown",
   "id": "795afde4-adc6-46f2-a29e-d6548751d055",
   "metadata": {},
   "source": [
    "### Step 8. Now we ask for a player's input. Then, we check if the position is available. If it is, we need to return that position."
   ]
  },
  {
   "cell_type": "code",
   "execution_count": 23,
   "id": "a000bb15-4ce7-4880-96c8-11ee59cef4b6",
   "metadata": {},
   "outputs": [],
   "source": [
    "def player_choice(board):\n",
    "\n",
    "    # keep on running until we can return a position\n",
    "    while 1==1:\n",
    "        \n",
    "        # ask for a player's move\n",
    "        nextmove = int(input('Choose where to place your marker: '))\n",
    "\n",
    "        # if space is occupied, need to reinput again\n",
    "        if space_check(board, nextmove) == False:\n",
    "            print('Invalid move. Choose another location.')\n",
    "\n",
    "        # if available, return the position\n",
    "        else:\n",
    "            return nextmove\n"
   ]
  },
  {
   "cell_type": "markdown",
   "id": "4312bcfb-89bd-415c-aa01-e55c272ef328",
   "metadata": {},
   "source": [
    "### Step 9. Almost there. Final function to see if they want to play again!"
   ]
  },
  {
   "cell_type": "code",
   "execution_count": 24,
   "id": "8c1ad93f-184d-481b-93de-2b4fe17d72b0",
   "metadata": {},
   "outputs": [],
   "source": [
    "def replay():\n",
    "\n",
    "    # keep on running until we can return the answer    \n",
    "    while 1==1:\n",
    "        answer = (input('Do you want to play again? Yes or No?'))\n",
    "        answer = answer.lower()\n",
    "\n",
    "        # invalid entries are forced into the loop again\n",
    "        if answer not in ['yes','no']:\n",
    "            print('Invalid entry. Please try again. ')\n",
    "\n",
    "        # true for yes to play again\n",
    "        elif answer == 'yes':\n",
    "            return True\n",
    "\n",
    "        # false if they ain't playin no mo'\n",
    "        else:\n",
    "            return False"
   ]
  },
  {
   "cell_type": "markdown",
   "id": "76e42f7d-aec5-42b8-a878-3fd679732ff9",
   "metadata": {},
   "source": [
    "## FINAL STEP. PUT IT ALL TOGETHER."
   ]
  },
  {
   "cell_type": "code",
   "execution_count": 25,
   "id": "04e36e66-97be-47e1-ba07-af1eb55ed90f",
   "metadata": {},
   "outputs": [
    {
     "name": "stdout",
     "output_type": "stream",
     "text": [
      " O | X | O \n",
      "---|---|---\n",
      " O | X |   \n",
      "---|---|---\n",
      "   | X |   \n",
      "Player X has won!\n"
     ]
    },
    {
     "name": "stdin",
     "output_type": "stream",
     "text": [
      "Do you want to play again? Yes or No? no\n"
     ]
    }
   ],
   "source": [
    "print('Welcome to Tic Tac Toe!')\n",
    "\n",
    "#while True:\n",
    "outloop = 1\n",
    "inloop = 1\n",
    "\n",
    "while outloop==1:\n",
    "    # clean up the board\n",
    "    game_board = ['#','','','','','','','','','']\n",
    "\n",
    "    # display the board\n",
    "    display_board(game_board)\n",
    "\n",
    "    # ask user to be Player X or Player O\n",
    "    player_input()\n",
    "\n",
    "    # if random function dictates Player X starts first\n",
    "    if choose_first() == True:\n",
    "        while inloop==1:\n",
    "            print('Player X starts first.')\n",
    "            \n",
    "            # ask where the user wants to place the marker\n",
    "            place_marker(game_board, 'X', player_choice(game_board))\n",
    "            \n",
    "            # display the updated board\n",
    "            display_board(game_board)\n",
    "\n",
    "            # did Player X win?\n",
    "            if win_check(game_board,'X') == True:\n",
    "                \n",
    "                # if yes, break!\n",
    "                print('Player X has won!')\n",
    "                break\n",
    "\n",
    "            # is the board full? i.e. is it a tie?\n",
    "            elif full_board_check(game_board) == True:\n",
    "\n",
    "                # if yes, break!\n",
    "                print(\"It's a tie!'\")\n",
    "                break\n",
    "\n",
    "            # if not, continue\n",
    "            else:\n",
    "                pass\n",
    "\n",
    "            # same thing for Player O's turn\n",
    "            place_marker(game_board, 'O', player_choice(game_board))\n",
    "            display_board(game_board)\n",
    "            if win_check(game_board,'O') == True:\n",
    "                print('Player O has won!')\n",
    "                break\n",
    "            elif full_board_check(game_board) == True:\n",
    "                print(\"It's a tie!'\")\n",
    "                break\n",
    "            else:\n",
    "                pass\n",
    "    \n",
    "    # this will run if Player O starts first instead\n",
    "    else: \n",
    "        while inloop==1:\n",
    "            print('Player O starts first.')\n",
    "            place_marker(game_board, 'O',player_choice(game_board))\n",
    "            display_board(game_board)\n",
    "            if win_check(game_board,'O') == True:\n",
    "                print('Player O has won!')\n",
    "                break\n",
    "            elif full_board_check(game_board) == True:\n",
    "                print(\"It's a tie!'\")\n",
    "                break\n",
    "            else:\n",
    "                pass\n",
    "\n",
    "            place_marker(game_board, 'X', player_choice(game_board))\n",
    "            display_board(game_board)\n",
    "            if win_check(game_board,'X') == True:\n",
    "                print('Player X has won!')\n",
    "                break\n",
    "            elif full_board_check(game_board) == True:\n",
    "                print(\"It's a tie!'\")\n",
    "                break\n",
    "            else:\n",
    "                pass\n",
    "\n",
    "    # do players want to play again? if no, break!\n",
    "    if replay() == False:\n",
    "        break\n"
   ]
  },
  {
   "cell_type": "code",
   "execution_count": null,
   "id": "46add280-6c5b-4e2f-8344-b5efeb1eb531",
   "metadata": {},
   "outputs": [],
   "source": []
  }
 ],
 "metadata": {
  "kernelspec": {
   "display_name": "Python 3 (ipykernel)",
   "language": "python",
   "name": "python3"
  },
  "language_info": {
   "codemirror_mode": {
    "name": "ipython",
    "version": 3
   },
   "file_extension": ".py",
   "mimetype": "text/x-python",
   "name": "python",
   "nbconvert_exporter": "python",
   "pygments_lexer": "ipython3",
   "version": "3.11.7"
  }
 },
 "nbformat": 4,
 "nbformat_minor": 5
}
